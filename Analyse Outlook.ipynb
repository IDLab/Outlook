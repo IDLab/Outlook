{
 "cells": [
  {
   "cell_type": "markdown",
   "metadata": {
    "slideshow": {
     "slide_type": "slide"
    }
   },
   "source": [
    "# Analyzing your ego mail network\n",
    "> This small project is to show what information can be learned from analyzing your own mail.\n",
    "> I will show you what you what I obtained analyzing my own mailbox.\n",
    "> All the code was written within one hour.\n",
    "> Investing more time should give more insights :)\n",
    "\n",
    "Done at this moment:\n",
    "+ Importing recipients and sender of each mail which I stored\n",
    "+ Draw the relations (the edges) between who sents e-mail to who.\n",
    "\n",
    "Not done at this moment:\n",
    "- Did not do any text analysis\n",
    "- Neither sentiment analysis (altough I tend to store only positive emails)\n",
    "- Did not do anything with the time it was sent\n",
    "- Did not apply any centrality measures (yet)\n",
    "- Did not deal with idlab@ilt.nl properly."
   ]
  },
  {
   "cell_type": "markdown",
   "metadata": {
    "slideshow": {
     "slide_type": "slide"
    }
   },
   "source": [
    "# Step 1\n",
    "\n",
    "Export all your emails from Outlook to msg-files.\n",
    "1. Select all your emails in Outlook\n",
    "2. Drag them from Outlook to an empty folder\n",
    "3. Don't forget your sent items\n",
    "4. Done"
   ]
  },
  {
   "cell_type": "markdown",
   "metadata": {
    "slideshow": {
     "slide_type": "slide"
    }
   },
   "source": [
    "# Step 2\n",
    "\n",
    "Import them in Python with a package called extract_msg (installable via pip):"
   ]
  },
  {
   "cell_type": "code",
   "execution_count": null,
   "metadata": {
    "slideshow": {
     "slide_type": "-"
    }
   },
   "outputs": [],
   "source": [
    "import os; import extract_msg;\n",
    "d = [];\n",
    "for file in os.scandir('/data/bruingjde/data/outlook/archief'): # Iteration over every msg-file\n",
    "    try:\n",
    "        d.append(extract_msg.Message(file.path))\n",
    "    except:\n",
    "        pass"
   ]
  },
  {
   "cell_type": "markdown",
   "metadata": {
    "slideshow": {
     "slide_type": "slide"
    }
   },
   "source": [
    "## Get recipients"
   ]
  },
  {
   "cell_type": "code",
   "execution_count": null,
   "metadata": {
    "slideshow": {
     "slide_type": "-"
    }
   },
   "outputs": [],
   "source": [
    "receivers = [];\n",
    "for index, mail in enumerate(d): # Iterate over every mail and append receiver to list.\n",
    "    for split1 in mail.to.split(\"<\"):\n",
    "        for split2 in split1.split(\">\"):\n",
    "            if \"@\" in split2:\n",
    "                receivers.append((index, split2))"
   ]
  },
  {
   "cell_type": "code",
   "execution_count": null,
   "metadata": {
    "scrolled": true,
    "slideshow": {
     "slide_type": "subslide"
    }
   },
   "outputs": [],
   "source": [
    "import pandas as pd\n",
    "receivers = pd.DataFrame(receivers, columns=[\"mail_id\",\"receiver\"])\n",
    "receivers.to_csv(\"/data/bruingjde/data/outlook/receivers.csv\", index=False)\n",
    "receivers"
   ]
  },
  {
   "cell_type": "markdown",
   "metadata": {
    "slideshow": {
     "slide_type": "slide"
    }
   },
   "source": [
    "## Get senders"
   ]
  },
  {
   "cell_type": "code",
   "execution_count": null,
   "metadata": {},
   "outputs": [],
   "source": [
    "senders = [];\n",
    "for mail in d:  # Iterate over every mail and append sender to list.\n",
    "    for split1 in mail.sender.split(\"<\"):\n",
    "        for split2 in split1.split(\">\"):\n",
    "            if \"@\" in split2:\n",
    "                senders.append(split2)"
   ]
  },
  {
   "cell_type": "code",
   "execution_count": null,
   "metadata": {
    "scrolled": true,
    "slideshow": {
     "slide_type": "subslide"
    }
   },
   "outputs": [],
   "source": [
    "senders = pd.Series(senders, name=\"senders\")\n",
    "#senders.to_pickle(\"/data/bruingjde/data/outlook/senders.pkl\")\n",
    "senders.to_csv(\"/data/bruingjde/data/outlook/senders.csv\", header=False, index=False)"
   ]
  },
  {
   "cell_type": "markdown",
   "metadata": {
    "slideshow": {
     "slide_type": "slide"
    }
   },
   "source": [
    "# Step 3\n",
    "## Concept\n",
    "We are now projecting the data to a network. A node will be an unique mailadress. An edge is only drawn between two individuals when a mail was sent from node A to node B (where I was also part of). Hence this is an **ego-network** from me. I will explain this with an example."
   ]
  },
  {
   "cell_type": "markdown",
   "metadata": {
    "slideshow": {
     "slide_type": "slide"
    }
   },
   "source": [
    "Imagine an **ego-network** around **me**. So we did mine the mailbox of **me**.\n",
    "Now **me** receives a mail from person **A**."
   ]
  },
  {
   "cell_type": "code",
   "execution_count": null,
   "metadata": {
    "slideshow": {
     "slide_type": "-"
    }
   },
   "outputs": [],
   "source": [
    "from pyvis.network import Network\n",
    "net = Network(notebook=True, height=\"300px\", width=\"300px\");\n",
    "net.add_node(0, label=\"me\")\n",
    "net.add_node(1, label=\"A\")\n",
    "net.add_edge(0, 1)\n",
    "net.prep_notebook()\n",
    "net.show(\"test.html\")"
   ]
  },
  {
   "cell_type": "markdown",
   "metadata": {
    "slideshow": {
     "slide_type": "slide"
    }
   },
   "source": [
    "Now **B** sends an e-mail to me. We obtain the following network."
   ]
  },
  {
   "cell_type": "code",
   "execution_count": null,
   "metadata": {
    "slideshow": {
     "slide_type": "-"
    }
   },
   "outputs": [],
   "source": [
    "net.add_node(2, label=\"B\")\n",
    "net.add_edge(0, 2)\n",
    "net.show(\"test.html\")"
   ]
  },
  {
   "cell_type": "markdown",
   "metadata": {
    "slideshow": {
     "slide_type": "slide"
    }
   },
   "source": [
    "Now **C** sends an e-mail to me with **A** and **B** in the CC. We obtain the following network."
   ]
  },
  {
   "cell_type": "code",
   "execution_count": null,
   "metadata": {
    "slideshow": {
     "slide_type": "-"
    }
   },
   "outputs": [],
   "source": [
    "net.add_node(3, label=\"C\")\n",
    "net.add_edge(0, 3); net.add_edge(1, 3); net.add_edge(2, 3);\n",
    "net.show(\"test.html\")"
   ]
  },
  {
   "cell_type": "markdown",
   "metadata": {
    "slideshow": {
     "slide_type": "slide"
    }
   },
   "source": [
    "Ok. Let's now focus on a *real* example. Let's take my mailbox. Note that I keep only very limited number of e-mails for various reasons. First import the network in NetworkX."
   ]
  },
  {
   "cell_type": "code",
   "execution_count": null,
   "metadata": {},
   "outputs": [],
   "source": [
    "senders = pd.read_csv(\"/data/bruingjde/data/outlook/senders.csv\", squeeze=True)\n",
    "receivers = pd.read_csv(\"/data/bruingjde/data/outlook/receivers.csv\")"
   ]
  },
  {
   "cell_type": "code",
   "execution_count": null,
   "metadata": {},
   "outputs": [],
   "source": [
    "import networkx as nx\n",
    "G = nx.MultiGraph();\n",
    "for mail, sender in enumerate(senders):\n",
    "    for _, receiver in receivers[receivers[\"mail_id\"] == mail].iterrows():\n",
    "        G.add_edge(sender, receiver[\"receiver\"])"
   ]
  },
  {
   "cell_type": "markdown",
   "metadata": {
    "slideshow": {
     "slide_type": "subslide"
    }
   },
   "source": [
    "And now add the nodes into a *PyVis* object."
   ]
  },
  {
   "cell_type": "code",
   "execution_count": null,
   "metadata": {},
   "outputs": [],
   "source": [
    "from pyvis.network import Network\n",
    "net = Network(notebook=True, height=\"1000px\", width=\"1000px\");\n",
    "net.prep_notebook()\n",
    "from collections import Counter;\n",
    "t1 = {}\n",
    "for idx, node in enumerate(G.nodes()):\n",
    "    net.add_node(idx, label=node)\n",
    "    t1[node] = idx\n",
    "t = Counter();\n",
    "for edge in G.edges():\n",
    "    t.update((edge, \"\"))\n",
    "del t[\"\"]\n",
    "for key, value in t.items():\n",
    "    net.add_edge(t1[key[0]], t1[key[1]], value=value)\n",
    "net.show_buttons(filter_=['physics'])\n",
    "net.show(\"test.html\")"
   ]
  }
 ],
 "metadata": {
  "celltoolbar": "Slideshow",
  "kernelspec": {
   "display_name": "Python 3",
   "language": "python",
   "name": "python3"
  },
  "language_info": {
   "codemirror_mode": {
    "name": "ipython",
    "version": 3
   },
   "file_extension": ".py",
   "mimetype": "text/x-python",
   "name": "python",
   "nbconvert_exporter": "python",
   "pygments_lexer": "ipython3",
   "version": "3.6.6"
  },
  "rise": {
   "scroll": true
  },
  "widgets": {
   "application/vnd.jupyter.widget-state+json": {
    "state": {},
    "version_major": 2,
    "version_minor": 0
   }
  }
 },
 "nbformat": 4,
 "nbformat_minor": 2
}
